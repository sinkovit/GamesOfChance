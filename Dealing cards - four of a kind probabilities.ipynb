{
 "cells": [
  {
   "cell_type": "markdown",
   "metadata": {},
   "source": [
    "# Dealing cards - four of a kind probabilities"
   ]
  },
  {
   "cell_type": "markdown",
   "metadata": {},
   "source": [
    "## Probability of being dealt four of a kind from a full deck"
   ]
  },
  {
   "cell_type": "markdown",
   "metadata": {},
   "source": [
    "Calculate the probability of being dealt four of a kind (four cards of same rank, plus one other card) from a full deck of cards.\n",
    "\n",
    "Start by considering a single rank. There is one way of selecting all four 2s, which is then multiplied by the 48 ways of choosing an additional card. We then multiply by 13 to account for all possible ranks. The total number of possible four of a kind hands is 48 x 13 = 624. The probability is then calculated by dividing by the total number of hands, $_{52}C_{5}$"
   ]
  },
  {
   "cell_type": "code",
   "execution_count": 2,
   "metadata": {},
   "outputs": [],
   "source": [
    "from scipy.special import comb"
   ]
  },
  {
   "cell_type": "code",
   "execution_count": 7,
   "metadata": {},
   "outputs": [
    {
     "name": "stdout",
     "output_type": "stream",
     "text": [
      "Number of four of a kind : 624\n",
      "Number of hands          : 2598960\n",
      "Prob of four of a kind   : 0.00024009603841536616\n"
     ]
    }
   ],
   "source": [
    "n4kind1 = 624\n",
    "nhands1 = comb(52, 5, exact=True)\n",
    "p4kind1 = n4kind1/nhands1\n",
    "\n",
    "print('Number of four of a kind :', n4kind1)\n",
    "print('Number of hands          :', nhands1)\n",
    "print('Prob of four of a kind   :', p4kind1)"
   ]
  },
  {
   "cell_type": "markdown",
   "metadata": {},
   "source": [
    "## Probability of being dealt a four of a kind after *one* four of a kind has already been dealt"
   ]
  },
  {
   "cell_type": "markdown",
   "metadata": {},
   "source": [
    "Now consider the probability of being dealt four of a kind from the remaining 47 cards after one four of a kind had already been dealt.\n",
    "\n",
    "There is one way of selecting all four cards of a given rank, which is then multiplied by the 43 ways of choosing an additional card. We then multiply by 12 to account for all possible remaining ranks. The total number of possible four of a kind hands is 43 x 12 = 516. The probability is then calculated by dividing by the total number of hands, $_{47}C_{5}$"
   ]
  },
  {
   "cell_type": "code",
   "execution_count": 8,
   "metadata": {},
   "outputs": [
    {
     "name": "stdout",
     "output_type": "stream",
     "text": [
      "Number of four of a kind : 516\n",
      "Number of hands          : 1533939\n",
      "Prob of four of a kind   : 0.00033638886552855103\n"
     ]
    }
   ],
   "source": [
    "n4kind2 = 516\n",
    "nhands2 = comb(47, 5, exact=True)\n",
    "p4kind2 = n4kind2/nhands2\n",
    "\n",
    "print('Number of four of a kind :', n4kind2)\n",
    "print('Number of hands          :', nhands2)\n",
    "print('Prob of four of a kind   :', p4kind2)"
   ]
  },
  {
   "cell_type": "code",
   "execution_count": null,
   "metadata": {},
   "outputs": [],
   "source": []
  }
 ],
 "metadata": {
  "kernelspec": {
   "display_name": "Python 3",
   "language": "python",
   "name": "python3"
  },
  "language_info": {
   "codemirror_mode": {
    "name": "ipython",
    "version": 3
   },
   "file_extension": ".py",
   "mimetype": "text/x-python",
   "name": "python",
   "nbconvert_exporter": "python",
   "pygments_lexer": "ipython3",
   "version": "3.6.4"
  }
 },
 "nbformat": 4,
 "nbformat_minor": 2
}
