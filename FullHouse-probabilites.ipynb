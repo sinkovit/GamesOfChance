{
 "cells": [
  {
   "cell_type": "markdown",
   "metadata": {},
   "source": [
    "# Dealing cards - full house probabilities"
   ]
  },
  {
   "cell_type": "markdown",
   "metadata": {},
   "source": [
    "## Probability of being dealt a full house from a full deck"
   ]
  },
  {
   "cell_type": "markdown",
   "metadata": {},
   "source": [
    "Calculate the probability of being dealt a full house (three of a kind + pair) from a full deck of cards.\n",
    "\n",
    "The number of ways of choosing three of a kind from one value is $_{4}C_{3}$ and of choosing a pair from another value is $_{4}C_{2}$. There are $_{13}C_{2}$ of selecting the two values and then an addition factor of two to account for the ordering (e.g., two 5s + three 6s and two 6s and three 5s)."
   ]
  },
  {
   "cell_type": "code",
   "execution_count": 2,
   "metadata": {},
   "outputs": [],
   "source": [
    "from scipy.special import comb"
   ]
  },
  {
   "cell_type": "code",
   "execution_count": 4,
   "metadata": {},
   "outputs": [
    {
     "name": "stdout",
     "output_type": "stream",
     "text": [
      "Number of full house : 3744\n",
      "Number of hands   : 2598960\n",
      "Prob of full house     : 0.0014405762304921968\n"
     ]
    }
   ],
   "source": [
    "nfullh1 = 2*comb(4, 3, exact=True)*comb(4, 2, exact=True)*comb(13, 2, exact=True)\n",
    "nhands1 = comb(52, 5, exact=True)\n",
    "pfullh1 = nfullh1/nhands1\n",
    "print('Number of full house :', nfullh1)\n",
    "print('Number of hands   :', nhands1)\n",
    "print('Prob of full house     :', pfullh1)"
   ]
  },
  {
   "cell_type": "markdown",
   "metadata": {},
   "source": [
    "## Probability of being dealt a full house after four of a kind has already been dealt"
   ]
  },
  {
   "cell_type": "markdown",
   "metadata": {},
   "source": [
    "Now consider the probability of being dealt a full house from the remaining 47 cards after one four of a kind had already been dealt.\n",
    "\n",
    "One value is now unavailable (all four cards used) and another only has three cards remaining (value used for the 5th card). We can generate the full house from the 11 values with all four cards (2 x $_{4}C_{3}$ x $_{4}C_{2}$ x $_{11}C_{2}$) or use one of the values that only has three cards remaining ($_{3}C_{3}$ x $_{4}C_{2}$ x 11 + $_{4}C_{3}$ x $_{3}C_{2}$ x 11)"
   ]
  },
  {
   "cell_type": "code",
   "execution_count": 7,
   "metadata": {},
   "outputs": [
    {
     "name": "stdout",
     "output_type": "stream",
     "text": [
      "Number of full house : 2838\n",
      "Number of hands   : 1533939\n",
      "Prob of full house     : 0.0018501387604070306\n"
     ]
    }
   ],
   "source": [
    "nfullh2a = 2*comb(4, 3, exact=True)*comb(4, 2, exact=True)*comb(11, 2, exact=True)\n",
    "nfullh2b = comb(3, 3, exact=True)*comb(4, 2, exact=True)*11 + comb(4, 3, exact=True)*comb(3, 2, exact=True)*11\n",
    "nhands2 = comb(47, 5, exact=True)\n",
    "pfullh2 = (nfullh2a + nfullh2b)/nhands2\n",
    "\n",
    "print('Number of full house :', nfullh2a + nfullh2b)\n",
    "print('Number of hands   :', nhands2)\n",
    "print('Prob of full house     :', pfullh2)"
   ]
  },
  {
   "cell_type": "code",
   "execution_count": null,
   "metadata": {},
   "outputs": [],
   "source": []
  }
 ],
 "metadata": {
  "kernelspec": {
   "display_name": "Python 3",
   "language": "python",
   "name": "python3"
  },
  "language_info": {
   "codemirror_mode": {
    "name": "ipython",
    "version": 3
   },
   "file_extension": ".py",
   "mimetype": "text/x-python",
   "name": "python",
   "nbconvert_exporter": "python",
   "pygments_lexer": "ipython3",
   "version": "3.8.5"
  }
 },
 "nbformat": 4,
 "nbformat_minor": 2
}
