{
 "cells": [
  {
   "cell_type": "markdown",
   "metadata": {},
   "source": [
    "# Dealing cards - flush probabilities"
   ]
  },
  {
   "cell_type": "markdown",
   "metadata": {},
   "source": [
    "## Probability of being dealt a flush from a full deck"
   ]
  },
  {
   "cell_type": "markdown",
   "metadata": {},
   "source": [
    "Calculate the probability of being dealt a flush (five cards of the same suit) from a full deck of cards. Assume that flushes include the special case of a *straight flush* where the cards have a contiguous set of values (e.g. 3, 4, 5, 6, 7).\n",
    "\n",
    "First consider the number of ways of generating a flush from one suit, which is given by $_{13}C_{5}$, and then multiply by four for the number of suits. The probability is then calculated by dividing by the total number of hands, $_{52}C_{5}$"
   ]
  },
  {
   "cell_type": "code",
   "execution_count": 1,
   "metadata": {},
   "outputs": [],
   "source": [
    "from scipy.special import comb"
   ]
  },
  {
   "cell_type": "code",
   "execution_count": 12,
   "metadata": {},
   "outputs": [
    {
     "name": "stdout",
     "output_type": "stream",
     "text": [
      "Number of flushes : 5148\n",
      "Number of hands   : 2598960\n",
      "Prob of flush     : 0.0019807923169267707\n"
     ]
    }
   ],
   "source": [
    "nflush1 = 4*comb(13, 5, exact=True)\n",
    "nhands1 = comb(52, 5, exact=True)\n",
    "pflush1 = nflush1/nhands1\n",
    "print('Number of flushes :', nflush1)\n",
    "print('Number of hands   :', nhands1)\n",
    "print('Prob of flush     :', pflush1)"
   ]
  },
  {
   "cell_type": "markdown",
   "metadata": {},
   "source": [
    "## Probability of being dealt a flush after *one* flush has already been dealt"
   ]
  },
  {
   "cell_type": "markdown",
   "metadata": {},
   "source": [
    "Now consider the probability of being dealt a flush from the remaining 47 cards after one flush had already been dealt.\n",
    "\n",
    "The number of ways of generating a flush from the three suits that had not been used in the first flush is $3_{13}C_{5}$, while the number of ways of generating a flush from the hand that had already been used is $_{8}C_{5}$. The probability is then calculated by dividing this sum by the total number of hands, $_{47}C_{5}$."
   ]
  },
  {
   "cell_type": "code",
   "execution_count": 13,
   "metadata": {},
   "outputs": [
    {
     "name": "stdout",
     "output_type": "stream",
     "text": [
      "Number of flushes : 3917\n",
      "Number of hands   : 1533939\n",
      "Prob of flush     : 0.0025535565625490974\n"
     ]
    }
   ],
   "source": [
    "nflush2a = 3*comb(13, 5, exact=True) # Flushes from suits not yet used\n",
    "nflush2b = comb(8, 5, exact=True)    # Flushes from suit already used\n",
    "nflush2 = nflush2a + nflush2b\n",
    "nhands2 = comb(47, 5, exact=True)\n",
    "pflush2 = (nflush2a + nflush2b)/nhands2\n",
    "\n",
    "print('Number of flushes :', nflush2)\n",
    "print('Number of hands   :', nhands2)\n",
    "print('Prob of flush     :', pflush2)"
   ]
  },
  {
   "cell_type": "markdown",
   "metadata": {},
   "source": [
    "## Probability of being dealt a flush after *two* flushes have already been dealt"
   ]
  },
  {
   "cell_type": "markdown",
   "metadata": {},
   "source": [
    "We can take things a step further and calculate the probability of dealing a flush after two flushes had already been dealt. In this case we need to consider two separate cases:\n",
    "\n",
    "1. Both flushes had been dealt from same suit\n",
    "2. Flushes had been dealt from different suits\n",
    "\n",
    "In the first case, the suit used for two flushes is no longer an option since there are fewer than five cards remaining and the number of flushes is given by $3_{13}C_{5}$. In the second case, we have two suits each with 13 cards remaining and two suits each with 8 cards remaining. The number of flushes is given by $2_{13}C_{5} + 2_{8}C_{5}$. For both cases, the number of possible hands is $_{42}C_{5}$."
   ]
  },
  {
   "cell_type": "markdown",
   "metadata": {},
   "source": [
    "### Both previous flushes dealt from same suit"
   ]
  },
  {
   "cell_type": "code",
   "execution_count": 14,
   "metadata": {},
   "outputs": [
    {
     "name": "stdout",
     "output_type": "stream",
     "text": [
      "Number of flushes : 3861\n",
      "Number of hands   : 850668\n",
      "Prob of flush     : 0.004538785989363653\n"
     ]
    }
   ],
   "source": [
    "nflush3 = 3*comb(13, 5, exact=True)\n",
    "nhands3 = comb(42, 5, exact=True)\n",
    "pflush3 = nflush3/nhands3\n",
    "\n",
    "print('Number of flushes :', nflush3)\n",
    "print('Number of hands   :', nhands3)\n",
    "print('Prob of flush     :', pflush3)"
   ]
  },
  {
   "cell_type": "markdown",
   "metadata": {},
   "source": [
    "### Previous flushes dealt from different suits"
   ]
  },
  {
   "cell_type": "code",
   "execution_count": 15,
   "metadata": {},
   "outputs": [
    {
     "name": "stdout",
     "output_type": "stream",
     "text": [
      "Number of flushes : 2686\n",
      "Number of hands   : 850668\n",
      "Prob of flush     : 0.003157518561883132\n"
     ]
    }
   ],
   "source": [
    "nflush3 = 2*comb(13, 5, exact=True) + 2*comb(8, 5, exact=True)\n",
    "nhands3 = comb(42, 5, exact=True)\n",
    "pflush3 = nflush3/nhands3\n",
    "\n",
    "print('Number of flushes :', nflush3)\n",
    "print('Number of hands   :', nhands3)\n",
    "print('Prob of flush     :', pflush3)"
   ]
  },
  {
   "cell_type": "code",
   "execution_count": null,
   "metadata": {},
   "outputs": [],
   "source": []
  }
 ],
 "metadata": {
  "kernelspec": {
   "display_name": "Python 3",
   "language": "python",
   "name": "python3"
  },
  "language_info": {
   "codemirror_mode": {
    "name": "ipython",
    "version": 3
   },
   "file_extension": ".py",
   "mimetype": "text/x-python",
   "name": "python",
   "nbconvert_exporter": "python",
   "pygments_lexer": "ipython3",
   "version": "3.6.4"
  }
 },
 "nbformat": 4,
 "nbformat_minor": 2
}
