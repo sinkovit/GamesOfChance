{
 "cells": [
  {
   "cell_type": "markdown",
   "metadata": {},
   "source": [
    "# Dealing cards - flush generation"
   ]
  },
  {
   "cell_type": "markdown",
   "metadata": {},
   "source": [
    "An interesting exercise is to simulate dealing random hands of cards to see if the fraction that are flushes matches the exact result from combinatorics. Given that a flush is a relatively uncommon, occuring on average once per 500 hands, we'll need to deal a large number of hands to get reliable results."
   ]
  },
  {
   "cell_type": "code",
   "execution_count": 5,
   "metadata": {},
   "outputs": [],
   "source": [
    "import numpy as np"
   ]
  },
  {
   "cell_type": "markdown",
   "metadata": {},
   "source": [
    "A deck of cards is a fairly complex object and each card has an associated suit (club, diamond, heart, spade), rank (2-10, jack, queen, king, ace) and value (e.g. in black jack, face cards have a value of 10 and an ace can be either 1 or 11). For our purposes, we can use a simplified representation where the deck consists of 13 cards of each suit, which we'll abbreviate as C, D, H and S."
   ]
  },
  {
   "cell_type": "code",
   "execution_count": 6,
   "metadata": {},
   "outputs": [],
   "source": [
    "deck = ['C', 'D', 'H', 'S']*13"
   ]
  },
  {
   "cell_type": "code",
   "execution_count": 7,
   "metadata": {},
   "outputs": [
    {
     "name": "stdout",
     "output_type": "stream",
     "text": [
      "['C', 'D', 'H', 'S', 'C', 'D', 'H', 'S', 'C', 'D', 'H', 'S', 'C', 'D', 'H', 'S', 'C', 'D', 'H', 'S', 'C', 'D', 'H', 'S', 'C', 'D', 'H', 'S', 'C', 'D', 'H', 'S', 'C', 'D', 'H', 'S', 'C', 'D', 'H', 'S', 'C', 'D', 'H', 'S', 'C', 'D', 'H', 'S', 'C', 'D', 'H', 'S']\n"
     ]
    }
   ],
   "source": [
    "print(deck)"
   ]
  },
  {
   "cell_type": "markdown",
   "metadata": {},
   "source": [
    "We'll generate a large number of hands and keep track of how many of those result in flushes. Note that we're using the Python magic `%%time` to measure the run time for the cell and the NumPy random choice to select the five cards from the deck *without replacement*."
   ]
  },
  {
   "cell_type": "code",
   "execution_count": 9,
   "metadata": {},
   "outputs": [
    {
     "name": "stdout",
     "output_type": "stream",
     "text": [
      "0.001959\n",
      "CPU times: user 29.3 s, sys: 402 ms, total: 29.7 s\n",
      "Wall time: 30.6 s\n"
     ]
    }
   ],
   "source": [
    "%%time\n",
    "nhands = 1000000\n",
    "nflush = 0\n",
    "for i in range(nhands):\n",
    "    hand = np.random.choice(deck, size=5, replace=False)\n",
    "    if hand[0] == hand[1] == hand[2] == hand[3] == hand[4]:\n",
    "        nflush = nflush + 1\n",
    "        \n",
    "pflush = nflush/nhands\n",
    "print(pflush)"
   ]
  },
  {
   "cell_type": "code",
   "execution_count": null,
   "metadata": {},
   "outputs": [],
   "source": []
  }
 ],
 "metadata": {
  "kernelspec": {
   "display_name": "Python 3",
   "language": "python",
   "name": "python3"
  },
  "language_info": {
   "codemirror_mode": {
    "name": "ipython",
    "version": 3
   },
   "file_extension": ".py",
   "mimetype": "text/x-python",
   "name": "python",
   "nbconvert_exporter": "python",
   "pygments_lexer": "ipython3",
   "version": "3.6.4"
  }
 },
 "nbformat": 4,
 "nbformat_minor": 2
}
