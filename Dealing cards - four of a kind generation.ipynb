{
 "cells": [
  {
   "cell_type": "markdown",
   "metadata": {},
   "source": [
    "# Dealing cards - four of a kind generation"
   ]
  },
  {
   "cell_type": "markdown",
   "metadata": {},
   "source": [
    "An interesting exercise is to simulate dealing random hands of cards to see if the fraction that contain four of a kind matches the exact result from combinatorics. Given that four of a kind is rare, occuring on average once per 4165 hands, we'll need to deal a large number of hands to get reliable results.\n",
    "\n",
    "Before we start programming, we need to consider a few points.\n",
    "\n",
    "* How do we represent our deck of cards?\n",
    "* How do we generate a sample of simulated hands?\n",
    "* Given a hand of cards, how do we determine if it contains four of a kind?\n"
   ]
  },
  {
   "cell_type": "code",
   "execution_count": 4,
   "metadata": {},
   "outputs": [],
   "source": [
    "import numpy as np"
   ]
  },
  {
   "cell_type": "markdown",
   "metadata": {},
   "source": [
    "A deck of cards is a fairly complex object and each card has an associated suit (club, diamond, heart, spade), rank (2-10, jack, queen, king, ace) and value (e.g. in black jack, face cards have a value of 10 and an ace can be either 1 or 11). For our purposes, we can use a simplified representation where the deck consists of 4 cards of each rank."
   ]
  },
  {
   "cell_type": "code",
   "execution_count": 5,
   "metadata": {},
   "outputs": [],
   "source": [
    "deck = ['2', '3', '4', '5', '6', '7', '8', '9', '10', 'J', 'Q', 'K', 'A']*4"
   ]
  },
  {
   "cell_type": "code",
   "execution_count": 6,
   "metadata": {},
   "outputs": [
    {
     "name": "stdout",
     "output_type": "stream",
     "text": [
      "['2', '3', '4', '5', '6', '7', '8', '9', '10', 'J', 'Q', 'K', 'A', '2', '3', '4', '5', '6', '7', '8', '9', '10', 'J', 'Q', 'K', 'A', '2', '3', '4', '5', '6', '7', '8', '9', '10', 'J', 'Q', 'K', 'A', '2', '3', '4', '5', '6', '7', '8', '9', '10', 'J', 'Q', 'K', 'A']\n"
     ]
    }
   ],
   "source": [
    "print(deck)"
   ]
  },
  {
   "cell_type": "markdown",
   "metadata": {},
   "source": [
    "We'll generate a large number of hands and keep track of how many of those result in flushes. Note that we're using the Jupyter magic `%%time` to measure the run time for the cell. This is not part of the Python language and the use of two percent signs indicates that we time the entire cell, not just the immediately following line.\n",
    "\n",
    "The NumPy `random.choice()` function is used to select the five cards from the deck and we specify `replace=FALSE` to ensure that sampling is done *without replacement*. This is exactly what we want since once a card is dealt, it is not available for reuse.\n",
    "\n",
    "Finally, we need to decide whether a hand contains four of a kind. There are multiple ways to do this, but one simple approach is to sort the cards and test whether cards zero and three or one and four have the same rank."
   ]
  },
  {
   "cell_type": "code",
   "execution_count": 7,
   "metadata": {},
   "outputs": [
    {
     "name": "stdout",
     "output_type": "stream",
     "text": [
      "0.00026\n",
      "CPU times: user 3.5 s, sys: 71.2 ms, total: 3.57 s\n",
      "Wall time: 3.69 s\n"
     ]
    }
   ],
   "source": [
    "%%time\n",
    "nhands = 100000\n",
    "n4kind = 0\n",
    "for i in range(nhands):\n",
    "    hand = np.random.choice(deck, size=5, replace=False)\n",
    "    hand.sort()\n",
    "    if hand[0] == hand[3] or hand[1] == hand[4]:\n",
    "        n4kind = n4kind + 1\n",
    "        \n",
    "p4kind = n4kind/nhands\n",
    "print(p4kind)"
   ]
  }
 ],
 "metadata": {
  "kernelspec": {
   "display_name": "Python 3",
   "language": "python",
   "name": "python3"
  },
  "language_info": {
   "codemirror_mode": {
    "name": "ipython",
    "version": 3
   },
   "file_extension": ".py",
   "mimetype": "text/x-python",
   "name": "python",
   "nbconvert_exporter": "python",
   "pygments_lexer": "ipython3",
   "version": "3.8.5"
  }
 },
 "nbformat": 4,
 "nbformat_minor": 2
}
